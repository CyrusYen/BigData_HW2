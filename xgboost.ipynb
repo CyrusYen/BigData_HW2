{
 "cells": [
  {
   "cell_type": "code",
   "execution_count": 5,
   "metadata": {
    "collapsed": false
   },
   "outputs": [],
   "source": [
    "import pandas as pd\n",
    "import numpy as np\n",
    "from xgboost.sklearn import XGBClassifier\n",
    "from sklearn import cross_validation, metrics   #Additional scklearn functions\n",
    "from sklearn.grid_search import GridSearchCV   #Perforing grid search\n",
    "%matplotlib inline\n",
    "import matplotlib.pyplot as plt\n",
    "import seaborn as sb\n",
    "\n",
    "train = pd.read_csv('LargeTrain.csv')\n",
    "train['Class'] = [ i - 1 for i in train['Class']]\n",
    "target = 'Class'\n",
    "predictors = [col for col in train.columns if col not in target]"
   ]
  },
  {
   "cell_type": "code",
   "execution_count": null,
   "metadata": {
    "collapsed": false
   },
   "outputs": [],
   "source": [
    "param_test1 = {\n",
    "    'max_depth': [2, 4, 6, 8],\n",
    "    'min_child_weight': [1, 3, 5, 7]\n",
    "}\n",
    "gsearch1 = GridSearchCV(estimator = XGBClassifier(learning_rate =0.1, \n",
    "                                                  n_estimators=140, \n",
    "                                                  max_depth=5,\n",
    "                                                  min_child_weight=1, \n",
    "                                                  gamma=0, \n",
    "                                                  subsample=0.8, \n",
    "                                                  colsample_bytree=0.8,\n",
    "                                                  objective= 'multi:softprob', \n",
    "                                                  nthread=4, \n",
    "                                                  scale_pos_weight=1, \n",
    "                                                  seed = 27), \n",
    "                                                  param_grid = param_test1, \n",
    "                                                  scoring = 'accuracy', \n",
    "                                                  n_jobs=4, \n",
    "                                                  iid=False, \n",
    "                                                  cv=5)\n",
    "gsearch1.fit(train[predictors],train[target])\n",
    "gsearch1.grid_scores_, gsearch1.best_params_, gsearch1.best_score_"
   ]
  },
  {
   "cell_type": "code",
   "execution_count": null,
   "metadata": {
    "collapsed": true
   },
   "outputs": [],
   "source": [
    "param_test2 = {\n",
    " 'gamma':[i/10.0 for i in range(0,5)]\n",
    "}\n",
    "gsearch2 = GridSearchCV(estimator = XGBClassifier( learning_rate =0.1, \n",
    "                                                  n_estimators=140, \n",
    "                                                  max_depth=5,\n",
    "                                                  min_child_weight=1, \n",
    "                                                  gamma=0, \n",
    "                                                  subsample=0.8, \n",
    "                                                  colsample_bytree=0.8,\n",
    "                                                  objective= 'multi:softprob', \n",
    "                                                  nthread=4, \n",
    "                                                  scale_pos_weight=1, \n",
    "                                                  seed = 27), \n",
    "                                                  param_grid = param_test2, \n",
    "                                                  scoring='accuracy',\n",
    "                                                  n_jobs=4,\n",
    "                                                  iid=False, \n",
    "                                                  cv=5)\n",
    "gsearch2.fit(train[predictors],train[target])\n",
    "gsearch2.grid_scores_, gsearch2.best_params_, gsearch2.best_score_"
   ]
  },
  {
   "cell_type": "code",
   "execution_count": null,
   "metadata": {
    "collapsed": true
   },
   "outputs": [],
   "source": [
    "grid_visualization1 = []\n",
    "for grid_pair in gsearch1.grid_scores_:\n",
    "    grid_visualization1.append(grid_pair.mean_validation_score)\n",
    "    \n",
    "grid_visualization1 = np.array(grid_visualization1)\n",
    "grid_visualization1.shape = (4, 4)\n",
    "sb.heatmap(grid_visualization1, cmap='YlGnBu')\n",
    "plt.xticks(np.arange(4) + 0.5, gsearch1.param_grid['max_depth'])\n",
    "plt.yticks(np.arange(4) + 0.5, gsearch1.param_grid['min_child_weight'][::-1])\n",
    "plt.xlabel('max_depth')\n",
    "plt.ylabel('min_child_weight')"
   ]
  },
  {
   "cell_type": "code",
   "execution_count": null,
   "metadata": {
    "collapsed": true
   },
   "outputs": [],
   "source": [
    "grid_visualization2 = []\n",
    "for grid_pair1 in gsearch2.grid_scores_:\n",
    "    grid_visualization2.append(grid_pair1.mean_validation_score)\n",
    "    \n",
    "grid_visualization2 = np.array(grid_visualization2)\n",
    "grid_visualization2.shape = (5, 5)\n",
    "sb.heatmap(grid_visualization2, cmap='YlGnBu')\n",
    "plt.xticks(np.arange(5) + 0.5, gsearch2.param_grid['n_estimators'])\n",
    "plt.yticks(np.arange(5) + 0.5, gsearch2.param_grid['gamma'][::-1])\n",
    "plt.xlabel('n_estimators')\n",
    "plt.ylabel('gamma')"
   ]
  }
 ],
 "metadata": {
  "anaconda-cloud": {},
  "kernelspec": {
   "display_name": "Python 3",
   "language": "python",
   "name": "python3"
  },
  "language_info": {
   "codemirror_mode": {
    "name": "ipython",
    "version": 3
   },
   "file_extension": ".py",
   "mimetype": "text/x-python",
   "name": "python",
   "nbconvert_exporter": "python",
   "pygments_lexer": "ipython3",
   "version": "3.5.2"
  }
 },
 "nbformat": 4,
 "nbformat_minor": 2
}
