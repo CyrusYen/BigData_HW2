{
 "cells": [
  {
   "cell_type": "code",
   "execution_count": null,
   "metadata": {
    "collapsed": true
   },
   "outputs": [],
   "source": [
    "import pandas as pd\n",
    "import numpy as np\n",
    "from sklearn.ensemble import GradientBoostingClassifier\n",
    "from sklearn.grid_search import GridSearchCV\n",
    "\n",
    "import matplotlib.pyplot as plt\n",
    "%matplotlib inline\n",
    "import seaborn as sb\n",
    "\n",
    "train = pd.read_csv('LargeTrain.csv')\n",
    "train['Class'] = [ i - 1 for i in train['Class']]\n",
    "target = 'Class'\n",
    "predictors = [col for col in train.columns if col not in target]"
   ]
  },
  {
   "cell_type": "code",
   "execution_count": null,
   "metadata": {
    "collapsed": true
   },
   "outputs": [],
   "source": [
    "param_test1 = {\n",
    "    'max_depth':[2, 4, 6, 8], \n",
    "    'min_samples_split':[200, 400, 600, 800]\n",
    "}\n",
    "gsearch1 = GridSearchCV(estimator = GradientBoostingClassifier(learning_rate=0.01, \n",
    "                                                               min_samples_split=500,\n",
    "                                                               min_samples_leaf=50, \n",
    "                                                               max_depth=8, \n",
    "                                                               max_features='sqrt',\n",
    "                                                               subsample=0.8, \n",
    "                                                               random_state=10,\n",
    "                                                               seed=27), \n",
    "                                                               param_grid = param_test1, \n",
    "                                                               scoring='accuracy', \n",
    "                                                               n_jobs=4, \n",
    "                                                               iid=False, \n",
    "                                                               cv=5)\n",
    "gsearch1.fit(train[predictors],train[target])\n",
    "gsearch1.grid_scores_, gsearch1.best_params_, gsearch1.best_score_"
   ]
  },
  {
   "cell_type": "code",
   "execution_count": null,
   "metadata": {
    "collapsed": true
   },
   "outputs": [],
   "source": [
    "param_test2 = {'n_estimators':[100, 120, 140, 160, 180, 200], 'min_samples_leaf':[20, 30, 40, 50, 60, 70] }\n",
    "gsearch2 = GridSearchCV(estimator = GradientBoostingClassifier(learning_rate=0.01, \n",
    "                                                               min_samples_split=200,\n",
    "                                                               min_samples_leaf=50, \n",
    "                                                               max_depth=9, \n",
    "                                                               max_features='sqrt',\n",
    "                                                               subsample=0.8, \n",
    "                                                               random_state=10,\n",
    "                                                               seed = 27), \n",
    "                                                               param_grid = param_test2, \n",
    "                                                               scoring='accuracy', \n",
    "                                                               n_jobs=4, \n",
    "                                                               iid=False, \n",
    "                                                               cv=5)\n",
    "gsearch2.fit(train[predictors],train[target])\n",
    "gsearch2.grid_scores_, gsearch2.best_params_, gsearch2.best_score_"
   ]
  },
  {
   "cell_type": "code",
   "execution_count": null,
   "metadata": {
    "collapsed": true
   },
   "outputs": [],
   "source": [
    "grid_visualization1 = []\n",
    "for grid_pair in gsearch1.grid_scores_:\n",
    "    grid_visualization1.append(grid_pair.mean_validation_score)\n",
    "    \n",
    "grid_visualization1 = np.array(grid_visualization1)\n",
    "grid_visualization1.shape = (4, 4)\n",
    "sb.heatmap(grid_visualization1, cmap='YlGnBu')\n",
    "plt.xticks(np.arange(4) + 0.5, gsearch1.param_grid['min_samples_split'])\n",
    "plt.yticks(np.arange(4) + 0.5, gsearch1.param_grid['max_depth'][::-1])\n",
    "plt.xlabel('min_samples_split')\n",
    "plt.ylabel('max_depth')"
   ]
  },
  {
   "cell_type": "code",
   "execution_count": null,
   "metadata": {
    "collapsed": true
   },
   "outputs": [],
   "source": [
    "grid_visualization2 = []\n",
    "for grid_pair in gsearch2.grid_scores_:\n",
    "    grid_visualization2.append(grid_pair.mean_validation_score)\n",
    "    \n",
    "grid_visualization2 = np.array(grid_visualization2)\n",
    "grid_visualization2.shape = (6, 6)\n",
    "sb.heatmap(grid_visualization2, cmap='YlGnBu')\n",
    "plt.xticks(np.arange(6) + 0.5, gsearch2.param_grid['n_estimators'])\n",
    "plt.yticks(np.arange(6) + 0.5, gsearch2.param_grid['min_samples_leaf'][::-1])\n",
    "plt.xlabel('n_estimators')\n",
    "plt.ylabel('n_samples_leaf')"
   ]
  }
 ],
 "metadata": {
  "anaconda-cloud": {},
  "kernelspec": {
   "display_name": "Python 3",
   "language": "python",
   "name": "python3"
  },
  "language_info": {
   "codemirror_mode": {
    "name": "ipython",
    "version": 3
   },
   "file_extension": ".py",
   "mimetype": "text/x-python",
   "name": "python",
   "nbconvert_exporter": "python",
   "pygments_lexer": "ipython3",
   "version": "3.5.2"
  }
 },
 "nbformat": 4,
 "nbformat_minor": 2
}
